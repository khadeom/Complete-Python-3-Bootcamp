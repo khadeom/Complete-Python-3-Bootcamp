{
  "nbformat": 4,
  "nbformat_minor": 0,
  "metadata": {
    "colab": {
      "name": "my_first-colab.ipynb",
      "provenance": [],
      "collapsed_sections": [],
      "authorship_tag": "ABX9TyPy7XiqF8pZezhOLsDRlfks",
      "include_colab_link": true
    },
    "kernelspec": {
      "name": "python3",
      "display_name": "Python 3"
    }
  },
  "cells": [
    {
      "cell_type": "markdown",
      "metadata": {
        "id": "view-in-github",
        "colab_type": "text"
      },
      "source": [
        "<a href=\"https://colab.research.google.com/github/khadeom/Complete-Python-3-Bootcamp/blob/master/my_first_colab.ipynb\" target=\"_parent\"><img src=\"https://colab.research.google.com/assets/colab-badge.svg\" alt=\"Open In Colab\"/></a>"
      ]
    },
    {
      "cell_type": "markdown",
      "metadata": {
        "id": "UvO-Q5HxOV32",
        "colab_type": "text"
      },
      "source": [
        "**Google Colab**"
      ]
    },
    {
      "cell_type": "code",
      "metadata": {
        "id": "5QfOo3OYOHVn",
        "colab_type": "code",
        "colab": {}
      },
      "source": [
        "print(\"happy collab\")"
      ],
      "execution_count": 0,
      "outputs": []
    },
    {
      "cell_type": "code",
      "metadata": {
        "id": "V37f4a-sN3p3",
        "colab_type": "code",
        "colab": {}
      },
      "source": [
        "import numpy as np\n",
        "from numpy import array\n",
        "\n",
        "\n",
        "ar1=array([1,2.3,4,5,6])\n"
      ],
      "execution_count": 0,
      "outputs": []
    },
    {
      "cell_type": "markdown",
      "metadata": {
        "id": "CbMQdHiyN4KD",
        "colab_type": "text"
      },
      "source": [
        ""
      ]
    },
    {
      "cell_type": "code",
      "metadata": {
        "id": "Zb6wLxeYN5EA",
        "colab_type": "code",
        "colab": {}
      },
      "source": [
        "ar1."
      ],
      "execution_count": 0,
      "outputs": []
    }
  ]
}